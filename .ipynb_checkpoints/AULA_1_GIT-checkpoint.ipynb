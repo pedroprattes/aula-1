{
 "cells": [
  {
   "cell_type": "code",
   "execution_count": 1,
   "id": "1d6cbf15",
   "metadata": {},
   "outputs": [],
   "source": [
    "arquivo = open(\"aula.txt\", \"x\")\n",
    "arquivo.write('Aula 1 - GIT')\n",
    "arquivo.close()"
   ]
  },
  {
   "cell_type": "code",
   "execution_count": null,
   "id": "278c2df6",
   "metadata": {},
   "outputs": [],
   "source": []
  }
 ],
 "metadata": {
  "kernelspec": {
   "display_name": "Python 3",
   "language": "python",
   "name": "python3"
  },
  "language_info": {
   "codemirror_mode": {
    "name": "ipython",
    "version": 3
   },
   "file_extension": ".py",
   "mimetype": "text/x-python",
   "name": "python",
   "nbconvert_exporter": "python",
   "pygments_lexer": "ipython3",
   "version": "3.8.8"
  }
 },
 "nbformat": 4,
 "nbformat_minor": 5
}
